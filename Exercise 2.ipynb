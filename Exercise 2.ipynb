{
 "cells": [
  {
   "cell_type": "code",
   "execution_count": 4,
   "id": "7cd83b4d-1a65-468b-9bb9-309152a79551",
   "metadata": {},
   "outputs": [
    {
     "name": "stdout",
     "output_type": "stream",
     "text": [
      "income = 250000\n"
     ]
    }
   ],
   "source": [
    "print('income = 250000')"
   ]
  },
  {
   "cell_type": "code",
   "execution_count": 5,
   "id": "e3add0fc-aca4-48b0-b401-2a15f6cbc762",
   "metadata": {},
   "outputs": [
    {
     "name": "stdout",
     "output_type": "stream",
     "text": [
      "your income is {250000}\n"
     ]
    }
   ],
   "source": [
    "print('your income is {250000}')"
   ]
  },
  {
   "cell_type": "code",
   "execution_count": 7,
   "id": "c8c52922-9cb9-4181-b4f8-62510924d634",
   "metadata": {},
   "outputs": [
    {
     "name": "stdout",
     "output_type": "stream",
     "text": [
      "your income is 250000 *0.05\n"
     ]
    }
   ],
   "source": [
    "print('your income is 250000 *0.05')"
   ]
  },
  {
   "cell_type": "code",
   "execution_count": 9,
   "id": "3a6e9b93-32d5-45cf-9613-698fd8d8e17d",
   "metadata": {},
   "outputs": [
    {
     "name": "stdout",
     "output_type": "stream",
     "text": [
      "your income is 12500.0\n"
     ]
    }
   ],
   "source": [
    "print('your income is', 250000 * 0.05)"
   ]
  },
  {
   "cell_type": "code",
   "execution_count": 15,
   "id": "be50c8a0-f512-4e7b-abf2-981fa81dafb2",
   "metadata": {},
   "outputs": [
    {
     "name": "stdout",
     "output_type": "stream",
     "text": [
      "Your income is 250000 and you would pay 12500.0 income tax in Lowtaxland or 107500.0\n"
     ]
    }
   ],
   "source": [
    "print('Your income is 250000 and you would pay', 250000 * 0.05, 'income tax in Lowtaxland or', 250000 * 0.43)"
   ]
  },
  {
   "cell_type": "code",
   "execution_count": 17,
   "id": "f3fa1f6c-c00e-4546-952c-19bfadf066e8",
   "metadata": {},
   "outputs": [
    {
     "name": "stdout",
     "output_type": "stream",
     "text": [
      "Your income is 250000 and you would pay 12500.0 income tax in Lowtaxland or 107500.0 income tax in Ripoffland. You would save 95000 by paying taxes in Lowtaxland!\n"
     ]
    }
   ],
   "source": [
    "print('Your income is 250000 and you would pay', 250000 * 0.05, 'income tax in Lowtaxland or', 250000 * 0.43, 'income tax in Ripoffland. You would save', 107500 - 12500, 'by paying taxes in Lowtaxland!')"
   ]
  },
  {
   "cell_type": "code",
   "execution_count": null,
   "id": "79e316e8-77c3-4916-b318-247444e8249d",
   "metadata": {},
   "outputs": [],
   "source": []
  }
 ],
 "metadata": {
  "kernelspec": {
   "display_name": "anaconda-panel-2023.05-py310",
   "language": "python",
   "name": "conda-env-anaconda-panel-2023.05-py310-py"
  },
  "language_info": {
   "codemirror_mode": {
    "name": "ipython",
    "version": 3
   },
   "file_extension": ".py",
   "mimetype": "text/x-python",
   "name": "python",
   "nbconvert_exporter": "python",
   "pygments_lexer": "ipython3",
   "version": "3.11.3"
  }
 },
 "nbformat": 4,
 "nbformat_minor": 5
}
