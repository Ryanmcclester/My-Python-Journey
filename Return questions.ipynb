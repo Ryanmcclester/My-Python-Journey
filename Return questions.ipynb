{
 "cells": [
  {
   "cell_type": "code",
   "execution_count": 14,
   "id": "d88bdcd9-afda-418f-bdb0-e06bad9706d6",
   "metadata": {},
   "outputs": [
    {
     "name": "stdin",
     "output_type": "stream",
     "text": [
      "How many days ago have you purchased the item? 9\n",
      "Have you used the item at all? y/n:  n\n",
      "Has the item broken down on its own? y/n:  y\n"
     ]
    },
    {
     "name": "stdout",
     "output_type": "stream",
     "text": [
      "You can get a refund.\n"
     ]
    }
   ],
   "source": [
    "answer_a = int(input('How many days ago have you purchased the item?'))\n",
    "if answer_a < 11:\n",
    "    answer_b = input('Have you used the item at all? y/n: ')\n",
    "    if answer_b == 'n':\n",
    "        answer_c = input('Has the item broken down on its own? y/n: ')\n",
    "        if answer_c == 'y':\n",
    "            print('You can get a refund.')\n",
    "        else:\n",
    "            print('You cannot get a refund.')\n",
    "    else:\n",
    "        print('You cannot get a refund.')        \n",
    "else:\n",
    "    print('You cannot get a refund.') "
   ]
  },
  {
   "cell_type": "code",
   "execution_count": 15,
   "id": "f4a31a69-2b79-40f2-a5d3-64f3ae53e769",
   "metadata": {},
   "outputs": [
    {
     "name": "stdin",
     "output_type": "stream",
     "text": [
      "How many days ago have you purchased the item? 8\n",
      "Have you used the item at all? y/n:  y\n"
     ]
    },
    {
     "name": "stdout",
     "output_type": "stream",
     "text": [
      "You cannot get a refund.\n"
     ]
    }
   ],
   "source": [
    "answer_a = int(input('How many days ago have you purchased the item?'))\n",
    "if answer_a < 11:\n",
    "    answer_b = input('Have you used the item at all? y/n: ')\n",
    "    if answer_b == 'n':\n",
    "        answer_c = input('Has the item broken down on its own? y/n: ')\n",
    "        if answer_c == 'y':\n",
    "            print('You can get a refund.')\n",
    "        else:\n",
    "            print('You cannot get a refund.')\n",
    "    else:\n",
    "        print('You cannot get a refund.')        \n",
    "else:\n",
    "    print('You cannot get a refund.') "
   ]
  },
  {
   "cell_type": "code",
   "execution_count": null,
   "id": "1b0b5ee9-8e4e-4917-a2ee-8d6d96276cd2",
   "metadata": {},
   "outputs": [],
   "source": []
  }
 ],
 "metadata": {
  "kernelspec": {
   "display_name": "anaconda-panel-2023.05-py310",
   "language": "python",
   "name": "conda-env-anaconda-panel-2023.05-py310-py"
  },
  "language_info": {
   "codemirror_mode": {
    "name": "ipython",
    "version": 3
   },
   "file_extension": ".py",
   "mimetype": "text/x-python",
   "name": "python",
   "nbconvert_exporter": "python",
   "pygments_lexer": "ipython3",
   "version": "3.11.3"
  }
 },
 "nbformat": 4,
 "nbformat_minor": 5
}
