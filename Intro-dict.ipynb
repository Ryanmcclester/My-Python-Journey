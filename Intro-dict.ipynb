{
 "cells": [
  {
   "cell_type": "code",
   "execution_count": 9,
   "id": "c4b0b1d7-834f-49a1-9ba3-0e38519faa23",
   "metadata": {},
   "outputs": [
    {
     "name": "stdout",
     "output_type": "stream",
     "text": [
      "{'dog': 'el perro', 'cat': 'el gato', 'horse': 'el caballo', 'bird': 'el pajaro'}\n"
     ]
    }
   ],
   "source": [
    "spanish_animals = {\n",
    "    'dog': 'el perro',\n",
    "    'cat': 'el gato',\n",
    "    'horse': 'el caballo',\n",
    "    'bird': 'el pajaro'\n",
    "}\n",
    "print(spanish_animals)"
   ]
  },
  {
   "cell_type": "code",
   "execution_count": 10,
   "id": "052b4ee6-add0-4dab-9198-6ef7dfc5e8f7",
   "metadata": {},
   "outputs": [
    {
     "name": "stdout",
     "output_type": "stream",
     "text": [
      "el pajaro\n"
     ]
    }
   ],
   "source": [
    "print(spanish_animals['bird'])"
   ]
  },
  {
   "cell_type": "code",
   "execution_count": 11,
   "id": "b69c4b99-6657-4225-a60f-066e52405aea",
   "metadata": {},
   "outputs": [
    {
     "name": "stdout",
     "output_type": "stream",
     "text": [
      "{'dog': 'el perro', 'cat': 'el gato', 'horse': 'el caballo', 'bird': 'el paharos'}\n"
     ]
    }
   ],
   "source": [
    "spanish_animals.update({'bird':'el paharos'})\n",
    "print(spanish_animals)"
   ]
  },
  {
   "cell_type": "code",
   "execution_count": 12,
   "id": "1f4c095c-106f-4480-9201-61c545d4e58b",
   "metadata": {},
   "outputs": [
    {
     "data": {
      "text/plain": [
       "4"
      ]
     },
     "execution_count": 12,
     "metadata": {},
     "output_type": "execute_result"
    }
   ],
   "source": [
    "len(spanish_animals)"
   ]
  },
  {
   "cell_type": "code",
   "execution_count": 13,
   "id": "b67f882f-ad72-495b-8a3c-1bdff806040b",
   "metadata": {},
   "outputs": [
    {
     "name": "stdout",
     "output_type": "stream",
     "text": [
      "{'dog': 'el perro', 'cat': 'el gato', 'horse': 'el caballo'}\n"
     ]
    }
   ],
   "source": [
    "del spanish_animals['bird']\n",
    "print(spanish_animals)"
   ]
  },
  {
   "cell_type": "code",
   "execution_count": 14,
   "id": "4b2da7b8-6e6a-4ea3-a8c7-09da1f557fb0",
   "metadata": {},
   "outputs": [
    {
     "name": "stdout",
     "output_type": "stream",
     "text": [
      "dog\n",
      "cat\n",
      "horse\n"
     ]
    }
   ],
   "source": [
    "for name in spanish_animals:\n",
    "    print(name)"
   ]
  },
  {
   "cell_type": "code",
   "execution_count": null,
   "id": "2d44ac02-9725-4ac4-a353-88af08f549cf",
   "metadata": {},
   "outputs": [],
   "source": []
  }
 ],
 "metadata": {
  "kernelspec": {
   "display_name": "anaconda-panel-2023.05-py310",
   "language": "python",
   "name": "conda-env-anaconda-panel-2023.05-py310-py"
  },
  "language_info": {
   "codemirror_mode": {
    "name": "ipython",
    "version": 3
   },
   "file_extension": ".py",
   "mimetype": "text/x-python",
   "name": "python",
   "nbconvert_exporter": "python",
   "pygments_lexer": "ipython3",
   "version": "3.11.3"
  }
 },
 "nbformat": 4,
 "nbformat_minor": 5
}
