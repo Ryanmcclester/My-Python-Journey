{
 "cells": [
  {
   "cell_type": "code",
   "execution_count": 2,
   "id": "26c8dbb5-ffe9-428f-84eb-8331d177d9eb",
   "metadata": {},
   "outputs": [
    {
     "name": "stdout",
     "output_type": "stream",
     "text": [
      "[1, 2, 3, 4, 5]\n"
     ]
    }
   ],
   "source": [
    "book_rating = [1, 2, 3, 4, 5]\n",
    "print (book_rating)"
   ]
  },
  {
   "cell_type": "code",
   "execution_count": 5,
   "id": "526ff953-7dc0-4977-b333-0d979dbeff0a",
   "metadata": {},
   "outputs": [
    {
     "name": "stdout",
     "output_type": "stream",
     "text": [
      "[1, 2, 3, 4, 5, 6]\n"
     ]
    }
   ],
   "source": [
    "book_rating.append(6)\n",
    "print (book_rating)"
   ]
  },
  {
   "cell_type": "code",
   "execution_count": 6,
   "id": "11592c10-e741-41fa-83d4-bbb20c7ffa22",
   "metadata": {},
   "outputs": [
    {
     "name": "stdout",
     "output_type": "stream",
     "text": [
      "[1, 2, 3, 4, 5, 6]\n"
     ]
    }
   ],
   "source": [
    "print (book_rating)"
   ]
  },
  {
   "cell_type": "code",
   "execution_count": 7,
   "id": "e1aad82b-60f0-46ff-8f6c-1c3358d61e86",
   "metadata": {},
   "outputs": [],
   "source": [
    "book_rating.insert(2, 7)"
   ]
  },
  {
   "cell_type": "code",
   "execution_count": 8,
   "id": "5d5e020e-0143-465d-b160-1104af00abdc",
   "metadata": {},
   "outputs": [
    {
     "name": "stdout",
     "output_type": "stream",
     "text": [
      "[1, 2, 7, 3, 4, 5, 6]\n"
     ]
    }
   ],
   "source": [
    "print(book_rating)"
   ]
  },
  {
   "cell_type": "code",
   "execution_count": 9,
   "id": "51442551-4a21-4a5c-bd1c-4a20919da888",
   "metadata": {},
   "outputs": [
    {
     "name": "stdout",
     "output_type": "stream",
     "text": [
      "Money spent: 272.51\n"
     ]
    }
   ],
   "source": [
    "spendings = [42.45, 48.87, 88.99, 92.20]\n",
    "sum = 0.0\n",
    "for spending in spendings:\n",
    "    sum += spending\n",
    "print('Money spent:', sum)"
   ]
  },
  {
   "cell_type": "code",
   "execution_count": null,
   "id": "83046893-9a5d-4ce6-9ca2-a9c90894f72f",
   "metadata": {},
   "outputs": [],
   "source": []
  }
 ],
 "metadata": {
  "kernelspec": {
   "display_name": "anaconda-panel-2023.05-py310",
   "language": "python",
   "name": "conda-env-anaconda-panel-2023.05-py310-py"
  },
  "language_info": {
   "codemirror_mode": {
    "name": "ipython",
    "version": 3
   },
   "file_extension": ".py",
   "mimetype": "text/x-python",
   "name": "python",
   "nbconvert_exporter": "python",
   "pygments_lexer": "ipython3",
   "version": "3.11.3"
  }
 },
 "nbformat": 4,
 "nbformat_minor": 5
}
