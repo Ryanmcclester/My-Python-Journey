{
 "cells": [
  {
   "cell_type": "code",
   "execution_count": null,
   "id": "4357dc79-2256-45ea-8597-3ceffb62f5f3",
   "metadata": {},
   "outputs": [],
   "source": [
    "import os\n",
    "\n",
    "def generate_file_list():\n",
    "    file_list = []\n",
    "    for file in os.listdir():\n",
    "        if os.path.isfile(file):\n",
    "            file_dict = {\n",
    "                \"file_name\": file,\n",
    "                \"file_path\": os.path.abspath(file),\n",
    "                \"file_size\": os.path.getsize(file)\n",
    "            }\n",
    "            file_list.append(file_dict)\n",
    "    return file_list\n",
    "\n",
    "if __name__ == \"__main__\":\n",
    "    files = generate_file_list()\n",
    "    for file in files:\n",
    "        print(file)"
   ]
  }
 ],
 "metadata": {
  "kernelspec": {
   "display_name": "anaconda-panel-2023.05-py310",
   "language": "python",
   "name": "conda-env-anaconda-panel-2023.05-py310-py"
  },
  "language_info": {
   "codemirror_mode": {
    "name": "ipython",
    "version": 3
   },
   "file_extension": ".py",
   "mimetype": "text/x-python",
   "name": "python",
   "nbconvert_exporter": "python",
   "pygments_lexer": "ipython3",
   "version": "3.11.3"
  }
 },
 "nbformat": 4,
 "nbformat_minor": 5
}
