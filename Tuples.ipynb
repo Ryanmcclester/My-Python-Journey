{
 "cells": [
  {
   "cell_type": "code",
   "execution_count": 1,
   "id": "be3155c1-d0d9-4940-99fa-fee80946fcc6",
   "metadata": {},
   "outputs": [],
   "source": [
    "empty_tuple = ()"
   ]
  },
  {
   "cell_type": "code",
   "execution_count": 2,
   "id": "677a52fd-184e-4cea-8e42-d387a8a31250",
   "metadata": {},
   "outputs": [
    {
     "name": "stdout",
     "output_type": "stream",
     "text": [
      "(1, 2, 3)\n"
     ]
    }
   ],
   "source": [
    "tuple_a = (1,)\n",
    "tuple_b = 1,\n",
    "tuple_c = 1, 2, 3,\n",
    "print(tuple_c)"
   ]
  },
  {
   "cell_type": "code",
   "execution_count": null,
   "id": "a1f2ad5a-87b8-4e9c-9f21-1dca03c34345",
   "metadata": {},
   "outputs": [],
   "source": [
    "#Mutibility- \n",
    "#Mutible-you can freely change it\n",
    "#Tuple is not mutable or can you del it."
   ]
  },
  {
   "cell_type": "code",
   "execution_count": null,
   "id": "6b2a421e-785f-478e-94ec-9b9cc4560de0",
   "metadata": {},
   "outputs": [],
   "source": []
  }
 ],
 "metadata": {
  "kernelspec": {
   "display_name": "anaconda-panel-2023.05-py310",
   "language": "python",
   "name": "conda-env-anaconda-panel-2023.05-py310-py"
  },
  "language_info": {
   "codemirror_mode": {
    "name": "ipython",
    "version": 3
   },
   "file_extension": ".py",
   "mimetype": "text/x-python",
   "name": "python",
   "nbconvert_exporter": "python",
   "pygments_lexer": "ipython3",
   "version": "3.11.3"
  }
 },
 "nbformat": 4,
 "nbformat_minor": 5
}
