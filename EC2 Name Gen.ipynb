{
 "cells": [
  {
   "cell_type": "code",
   "execution_count": 3,
   "id": "d6fa14a0-fae3-4d05-a23f-589ae643be90",
   "metadata": {},
   "outputs": [
    {
     "name": "stdin",
     "output_type": "stream",
     "text": [
      "How many EC2 Instances do you need?  4\n",
      "What department do you work for?  FinOps\n"
     ]
    },
    {
     "name": "stdout",
     "output_type": "stream",
     "text": [
      "Your randomized Instance Names: \n",
      "2_FinOpsxk_54\n",
      "48_FinOpsxk_9\n"
     ]
    }
   ],
   "source": [
    "y= int(input('How many EC2 Instances do you need? '))\n",
    "dept= input('What department do you work for? ')\n",
    "if dept == 'Marketing' or dept == 'Accounting' or dept == 'FinOps':\n",
    "    print('Your randomized Instance Names: ')\n",
    "    import random\n",
    "    list1=['a', 'x', 'y', 'r', 'e', 'b', 'k', 'h']\n",
    "    a=random.randint(0,7)\n",
    "    b=random.randint(0,7)\n",
    "    for z in range(x):\n",
    "        print(random.randrange(1,50), dept + list1[a] + list1[b], random.randrange(1,50), sep='_')\n",
    "else:\n",
    "    print('Sorry you cannot use this Generator')"
   ]
  },
  {
   "cell_type": "code",
   "execution_count": null,
   "id": "6e356b88-ec6f-4647-a9b7-5d457a4eed69",
   "metadata": {},
   "outputs": [],
   "source": []
  }
 ],
 "metadata": {
  "kernelspec": {
   "display_name": "anaconda-panel-2023.05-py310",
   "language": "python",
   "name": "conda-env-anaconda-panel-2023.05-py310-py"
  },
  "language_info": {
   "codemirror_mode": {
    "name": "ipython",
    "version": 3
   },
   "file_extension": ".py",
   "mimetype": "text/x-python",
   "name": "python",
   "nbconvert_exporter": "python",
   "pygments_lexer": "ipython3",
   "version": "3.11.3"
  }
 },
 "nbformat": 4,
 "nbformat_minor": 5
}
