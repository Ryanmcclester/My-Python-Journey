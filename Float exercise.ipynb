{
 "cells": [
  {
   "cell_type": "code",
   "execution_count": 1,
   "id": "28bc446d-3c59-4bbe-91ec-f6b95e1d70bd",
   "metadata": {},
   "outputs": [
    {
     "name": "stdin",
     "output_type": "stream",
     "text": [
      "How many hours did you work last month? 10.5\n"
     ]
    }
   ],
   "source": [
    "hours = float(input('How many hours did you work last month?'))\n",
    "#rate = float(input('what is you hourly rate?'))\n",
    "#print('How many hours did you work last month?')"
   ]
  },
  {
   "cell_type": "code",
   "execution_count": 2,
   "id": "6ddeaf4b-ea74-4dc8-ae10-77aa29aa8c8e",
   "metadata": {},
   "outputs": [
    {
     "name": "stdin",
     "output_type": "stream",
     "text": [
      "How many hours did you work last month? 10.5\n"
     ]
    },
    {
     "name": "stdout",
     "output_type": "stream",
     "text": [
      "10.5\n"
     ]
    }
   ],
   "source": [
    "hours = float(input('How many hours did you work last month?'))\n",
    "#rate = float(input('what is you hourly rate?'))\n",
    "print(hours)"
   ]
  },
  {
   "cell_type": "code",
   "execution_count": 3,
   "id": "6424826e-662f-47f1-9e4f-f7b7550a70e3",
   "metadata": {},
   "outputs": [
    {
     "name": "stdin",
     "output_type": "stream",
     "text": [
      "How many hours did you work last month? 30\n",
      "what is you hourly rate? 10.5\n"
     ]
    },
    {
     "name": "stdout",
     "output_type": "stream",
     "text": [
      "Last month you earnerd 315.0\n"
     ]
    }
   ],
   "source": [
    "hours = float(input('How many hours did you work last month?'))\n",
    "rate = float(input('what is you hourly rate?'))\n",
    "print('Last month you earnerd',  hours * rate)"
   ]
  },
  {
   "cell_type": "code",
   "execution_count": null,
   "id": "03bca8f7-39f4-4221-b9ae-7ad17cf42d9a",
   "metadata": {},
   "outputs": [],
   "source": []
  }
 ],
 "metadata": {
  "kernelspec": {
   "display_name": "anaconda-panel-2023.05-py310",
   "language": "python",
   "name": "conda-env-anaconda-panel-2023.05-py310-py"
  },
  "language_info": {
   "codemirror_mode": {
    "name": "ipython",
    "version": 3
   },
   "file_extension": ".py",
   "mimetype": "text/x-python",
   "name": "python",
   "nbconvert_exporter": "python",
   "pygments_lexer": "ipython3",
   "version": "3.11.3"
  }
 },
 "nbformat": 4,
 "nbformat_minor": 5
}
