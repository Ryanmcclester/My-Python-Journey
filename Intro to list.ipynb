{
 "cells": [
  {
   "cell_type": "code",
   "execution_count": 2,
   "id": "c30754d4-26a3-4bb7-8cb6-18f4050da894",
   "metadata": {},
   "outputs": [],
   "source": [
    "#collections store more than one data type in a varialbe\n",
    "#list\n",
    "#tuples\n",
    "#dictionaries"
   ]
  },
  {
   "cell_type": "code",
   "execution_count": 4,
   "id": "0ecbe066-7b6d-4afc-89a7-571e979849b2",
   "metadata": {},
   "outputs": [
    {
     "name": "stdout",
     "output_type": "stream",
     "text": [
      "['New York', 'LA', 'Chicago', 'Houston', 'Phoenix']\n"
     ]
    }
   ],
   "source": [
    "Top_cities = ['New York', 'LA', 'Chicago', 'Houston', 'Phoenix']\n",
    "print(Top_cities)"
   ]
  },
  {
   "cell_type": "code",
   "execution_count": 5,
   "id": "725c2df4-54cc-4eaa-be5c-9dc5d6d9ab2b",
   "metadata": {},
   "outputs": [
    {
     "data": {
      "text/plain": [
       "'New York'"
      ]
     },
     "execution_count": 5,
     "metadata": {},
     "output_type": "execute_result"
    }
   ],
   "source": [
    "Top_cities[0]"
   ]
  },
  {
   "cell_type": "code",
   "execution_count": 7,
   "id": "258f3de8-9c19-4033-8831-48f53d883341",
   "metadata": {},
   "outputs": [
    {
     "data": {
      "text/plain": [
       "['New York', 'LA']"
      ]
     },
     "execution_count": 7,
     "metadata": {},
     "output_type": "execute_result"
    }
   ],
   "source": [
    "Top_cities[0:2]"
   ]
  },
  {
   "cell_type": "code",
   "execution_count": 8,
   "id": "57388d34-82b3-45b4-9b5b-838094aac9c7",
   "metadata": {},
   "outputs": [
    {
     "data": {
      "text/plain": [
       "['Houston', 'Phoenix']"
      ]
     },
     "execution_count": 8,
     "metadata": {},
     "output_type": "execute_result"
    }
   ],
   "source": [
    "Top_cities[3:]"
   ]
  },
  {
   "cell_type": "code",
   "execution_count": 9,
   "id": "c46763ae-01ab-4a9d-8ec1-95c14d68a389",
   "metadata": {},
   "outputs": [
    {
     "data": {
      "text/plain": [
       "['New York', 'LA', 'Chicago']"
      ]
     },
     "execution_count": 9,
     "metadata": {},
     "output_type": "execute_result"
    }
   ],
   "source": [
    "Top_cities[:3]"
   ]
  },
  {
   "cell_type": "code",
   "execution_count": 11,
   "id": "282c92e0-9a5b-44e3-adae-3544ae62ae12",
   "metadata": {},
   "outputs": [
    {
     "data": {
      "text/plain": [
       "['New York', 'LA', 'Chicago', 'Houston', 'Phoenix']"
      ]
     },
     "execution_count": 11,
     "metadata": {},
     "output_type": "execute_result"
    }
   ],
   "source": [
    "Top_cities[:]"
   ]
  },
  {
   "cell_type": "code",
   "execution_count": null,
   "id": "bbc05bb4-6286-4d72-addb-6a7af03291e8",
   "metadata": {},
   "outputs": [],
   "source": []
  }
 ],
 "metadata": {
  "kernelspec": {
   "display_name": "anaconda-panel-2023.05-py310",
   "language": "python",
   "name": "conda-env-anaconda-panel-2023.05-py310-py"
  },
  "language_info": {
   "codemirror_mode": {
    "name": "ipython",
    "version": 3
   },
   "file_extension": ".py",
   "mimetype": "text/x-python",
   "name": "python",
   "nbconvert_exporter": "python",
   "pygments_lexer": "ipython3",
   "version": "3.11.3"
  }
 },
 "nbformat": 4,
 "nbformat_minor": 5
}
