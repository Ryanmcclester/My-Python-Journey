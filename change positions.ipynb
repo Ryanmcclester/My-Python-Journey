{
 "cells": [
  {
   "cell_type": "code",
   "execution_count": 1,
   "id": "f6473528-812c-40dc-bfbc-1e5f1e6ed388",
   "metadata": {},
   "outputs": [
    {
     "name": "stdout",
     "output_type": "stream",
     "text": [
      "['Phoenix', 'LA', 'Chicago', 'Houston', 'New York']\n"
     ]
    }
   ],
   "source": [
    "Top_cities = ['New York', 'LA', 'Chicago', 'Houston', 'Phoenix']\n",
    "Top_cities[0], Top_cities[4] = Top_cities[4], Top_cities[0]\n",
    "print(Top_cities)"
   ]
  },
  {
   "cell_type": "code",
   "execution_count": 2,
   "id": "c5baab70-ee6b-4098-9a32-795435457cf1",
   "metadata": {},
   "outputs": [
    {
     "name": "stdout",
     "output_type": "stream",
     "text": [
      "['Chicago', 'Houston', 'LA', 'New York', 'Phoenix']\n"
     ]
    }
   ],
   "source": [
    "print(sorted(Top_cities))"
   ]
  },
  {
   "cell_type": "code",
   "execution_count": 4,
   "id": "6c4e127a-9698-44f7-b1c5-e6ee6a8ccea5",
   "metadata": {},
   "outputs": [
    {
     "name": "stdout",
     "output_type": "stream",
     "text": [
      "['Phoenix', 'LA', 'Chicago', 'Houston', 'New York']\n"
     ]
    }
   ],
   "source": [
    "print(Top_cities)"
   ]
  },
  {
   "cell_type": "code",
   "execution_count": 6,
   "id": "bb042441-341c-4aab-b147-61af6abee181",
   "metadata": {},
   "outputs": [
    {
     "name": "stdout",
     "output_type": "stream",
     "text": [
      "['Chicago', 'Houston', 'LA', 'New York', 'Phoenix']\n"
     ]
    }
   ],
   "source": [
    "Top_cities = ['New York', 'LA', 'Chicago', 'Houston', 'Phoenix']\n",
    "Top_cities.sort()\n",
    "print(Top_cities)"
   ]
  },
  {
   "cell_type": "code",
   "execution_count": null,
   "id": "026e7b38-6f07-4843-b46e-c4c83d9691be",
   "metadata": {},
   "outputs": [],
   "source": []
  }
 ],
 "metadata": {
  "kernelspec": {
   "display_name": "anaconda-panel-2023.05-py310",
   "language": "python",
   "name": "conda-env-anaconda-panel-2023.05-py310-py"
  },
  "language_info": {
   "codemirror_mode": {
    "name": "ipython",
    "version": 3
   },
   "file_extension": ".py",
   "mimetype": "text/x-python",
   "name": "python",
   "nbconvert_exporter": "python",
   "pygments_lexer": "ipython3",
   "version": "3.11.3"
  }
 },
 "nbformat": 4,
 "nbformat_minor": 5
}
