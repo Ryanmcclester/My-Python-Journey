{
 "cells": [
  {
   "cell_type": "code",
   "execution_count": null,
   "id": "49e733dc-01c2-4f1a-a63b-02c1c5dca3c9",
   "metadata": {},
   "outputs": [],
   "source": [
    "import boto3\n",
    "\n",
    "s3 = boto3.client('s3')\n",
    "\n",
    "response = s3.create_bucket(\n",
    "    Bucket='ryanmcc-boto3-pratice',\n",
    "    )\n",
    "    \n",
    "print(response)"
   ]
  }
 ],
 "metadata": {
  "kernelspec": {
   "display_name": "anaconda-panel-2023.05-py310",
   "language": "python",
   "name": "conda-env-anaconda-panel-2023.05-py310-py"
  },
  "language_info": {
   "codemirror_mode": {
    "name": "ipython",
    "version": 3
   },
   "file_extension": ".py",
   "mimetype": "text/x-python",
   "name": "python",
   "nbconvert_exporter": "python",
   "pygments_lexer": "ipython3",
   "version": "3.11.3"
  }
 },
 "nbformat": 4,
 "nbformat_minor": 5
}
