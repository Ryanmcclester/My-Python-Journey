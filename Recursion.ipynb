{
 "cells": [
  {
   "cell_type": "code",
   "execution_count": 5,
   "id": "b84977c7-222e-4849-b022-61f87f318a73",
   "metadata": {},
   "outputs": [],
   "source": [
    "def get_factorial(number):\n",
    "    factorial = 1\n",
    "    for x in range(1, number +1):\n",
    "        factorial *=x\n",
    "    return factorial\n"
   ]
  },
  {
   "cell_type": "code",
   "execution_count": 6,
   "id": "fc9dbd02-38da-44af-8304-21483420d8e9",
   "metadata": {},
   "outputs": [
    {
     "name": "stdout",
     "output_type": "stream",
     "text": [
      "720\n"
     ]
    }
   ],
   "source": [
    "print(get_factorial(6))"
   ]
  },
  {
   "cell_type": "code",
   "execution_count": 7,
   "id": "89962077-9eca-4b57-b498-2663c2154ae4",
   "metadata": {},
   "outputs": [
    {
     "name": "stdout",
     "output_type": "stream",
     "text": [
      "5040\n"
     ]
    }
   ],
   "source": [
    "print(get_factorial(7))"
   ]
  },
  {
   "cell_type": "code",
   "execution_count": 6,
   "id": "4758cd6b-4954-4aac-9d1a-bcc96f2cee53",
   "metadata": {},
   "outputs": [],
   "source": [
    "#you have to put a stop value\n",
    "def get_factorial_recursive(number):\n",
    "    if number <= 1:\n",
    "        return 1\n",
    "    return number * get_factorial_recursive(number -1)"
   ]
  },
  {
   "cell_type": "code",
   "execution_count": 7,
   "id": "7688a6b5-303d-40c7-acac-efe2be3c3b43",
   "metadata": {},
   "outputs": [
    {
     "data": {
      "text/plain": [
       "40320"
      ]
     },
     "execution_count": 7,
     "metadata": {},
     "output_type": "execute_result"
    }
   ],
   "source": [
    "get_factorial_recursive(8)"
   ]
  },
  {
   "cell_type": "code",
   "execution_count": null,
   "id": "8f5c65e7-7565-477f-ab1c-1b6d9354777f",
   "metadata": {},
   "outputs": [],
   "source": []
  }
 ],
 "metadata": {
  "kernelspec": {
   "display_name": "anaconda-panel-2023.05-py310",
   "language": "python",
   "name": "conda-env-anaconda-panel-2023.05-py310-py"
  },
  "language_info": {
   "codemirror_mode": {
    "name": "ipython",
    "version": 3
   },
   "file_extension": ".py",
   "mimetype": "text/x-python",
   "name": "python",
   "nbconvert_exporter": "python",
   "pygments_lexer": "ipython3",
   "version": "3.11.3"
  }
 },
 "nbformat": 4,
 "nbformat_minor": 5
}
