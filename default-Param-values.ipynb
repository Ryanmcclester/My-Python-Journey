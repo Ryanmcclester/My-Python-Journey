{
 "cells": [
  {
   "cell_type": "code",
   "execution_count": 6,
   "id": "a298ec54-c750-4c29-b225-c687da9db20e",
   "metadata": {},
   "outputs": [
    {
     "name": "stdout",
     "output_type": "stream",
     "text": [
      "Hello-How are you?."
     ]
    }
   ],
   "source": [
    "print('Hello', 'How are you?', end='.', sep='-')"
   ]
  },
  {
   "cell_type": "code",
   "execution_count": 2,
   "id": "cff927cc-a748-4e4f-9837-3f06c131c5e0",
   "metadata": {},
   "outputs": [],
   "source": [
    "def print_letter_count(text, letter='a'):\n",
    "    counter = 0\n",
    "    for char in text:\n",
    "        if char == letter:\n",
    "            counter += 1\n",
    "    print('Number of', letter, 'is', counter)"
   ]
  },
  {
   "cell_type": "code",
   "execution_count": 3,
   "id": "caff04bf-d5b8-4b8d-b4b2-1a2efc139459",
   "metadata": {},
   "outputs": [
    {
     "name": "stdout",
     "output_type": "stream",
     "text": [
      "Number of a is 3\n"
     ]
    }
   ],
   "source": [
    "print_letter_count('How many letter a are here?')"
   ]
  },
  {
   "cell_type": "code",
   "execution_count": 5,
   "id": "eae391eb-77f4-4b2e-af8d-20b919053080",
   "metadata": {},
   "outputs": [],
   "source": [
    "def print_letter_count(text='This is the default string to search', letter='a'):\n",
    "    counter = 0\n",
    "    for char in text:\n",
    "        if char == letter:\n",
    "            counter += 1\n",
    "    print('Number of', letter, 'is', counter)"
   ]
  },
  {
   "cell_type": "code",
   "execution_count": 6,
   "id": "9f720966-85a9-4bcb-b0ce-38dfbf48234f",
   "metadata": {},
   "outputs": [
    {
     "name": "stdout",
     "output_type": "stream",
     "text": [
      "Number of a is 2\n"
     ]
    }
   ],
   "source": [
    "print_letter_count()"
   ]
  },
  {
   "cell_type": "code",
   "execution_count": null,
   "id": "26679188-deba-4808-b2a9-b4ff75d066d8",
   "metadata": {},
   "outputs": [],
   "source": []
  }
 ],
 "metadata": {
  "kernelspec": {
   "display_name": "anaconda-panel-2023.05-py310",
   "language": "python",
   "name": "conda-env-anaconda-panel-2023.05-py310-py"
  },
  "language_info": {
   "codemirror_mode": {
    "name": "ipython",
    "version": 3
   },
   "file_extension": ".py",
   "mimetype": "text/x-python",
   "name": "python",
   "nbconvert_exporter": "python",
   "pygments_lexer": "ipython3",
   "version": "3.11.3"
  }
 },
 "nbformat": 4,
 "nbformat_minor": 5
}
