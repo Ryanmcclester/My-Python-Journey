{
 "cells": [
  {
   "cell_type": "code",
   "execution_count": null,
   "id": "1ba791b3-71ce-4d20-a535-0c750824aab0",
   "metadata": {},
   "outputs": [],
   "source": [
    "mport boto3\n",
    "\n",
    "s3 = boto3.client('s3')\n",
    "\n",
    "with open(\"Practice file.txt\", 'rb') as f:   \n",
    "    s3.put_object(Bucket= \"ryanmcc-boto3-pratice\", Key=\"Pratice file.txt\", Body=f, ContentType= \"text/plain\")"
   ]
  }
 ],
 "metadata": {
  "kernelspec": {
   "display_name": "anaconda-panel-2023.05-py310",
   "language": "python",
   "name": "conda-env-anaconda-panel-2023.05-py310-py"
  },
  "language_info": {
   "codemirror_mode": {
    "name": "ipython",
    "version": 3
   },
   "file_extension": ".py",
   "mimetype": "text/x-python",
   "name": "python",
   "nbconvert_exporter": "python",
   "pygments_lexer": "ipython3",
   "version": "3.11.3"
  }
 },
 "nbformat": 4,
 "nbformat_minor": 5
}
