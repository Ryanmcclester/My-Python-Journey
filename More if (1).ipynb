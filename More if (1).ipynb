{
 "cells": [
  {
   "cell_type": "code",
   "execution_count": 1,
   "id": "d929909d-bb95-4e0e-b203-b0c86c7c2426",
   "metadata": {},
   "outputs": [
    {
     "name": "stdin",
     "output_type": "stream",
     "text": [
      "Do you like travelling? y/n:  y\n"
     ]
    },
    {
     "name": "stdout",
     "output_type": "stream",
     "text": [
      "Good!\n"
     ]
    }
   ],
   "source": [
    "answer_a = input('Do you like travelling? y/n: ')\n",
    "if answer_a == 'y':\n",
    "    print('Good!')\n",
    "else:\n",
    "    print('Sorry to hear that!')"
   ]
  },
  {
   "cell_type": "code",
   "execution_count": 2,
   "id": "3f275438-d535-4a8c-b79e-b126119da844",
   "metadata": {},
   "outputs": [
    {
     "name": "stdin",
     "output_type": "stream",
     "text": [
      "Do you like travelling? y/n:  n\n"
     ]
    },
    {
     "name": "stdout",
     "output_type": "stream",
     "text": [
      "Sorry to hear that!\n"
     ]
    }
   ],
   "source": [
    "answer_a = input('Do you like travelling? y/n: ')\n",
    "if answer_a == 'y':\n",
    "    print('Good!')\n",
    "else:\n",
    "    print('Sorry to hear that!')"
   ]
  },
  {
   "cell_type": "code",
   "execution_count": 4,
   "id": "85706dcf-7306-444d-965d-a4faaaecc50c",
   "metadata": {},
   "outputs": [
    {
     "name": "stdin",
     "output_type": "stream",
     "text": [
      "Do you like travelling? y/n:  y\n",
      "Do you like Asia? y/n:  y\n"
     ]
    },
    {
     "name": "stdout",
     "output_type": "stream",
     "text": [
      "Excellent! You win a trip to Thailand!!!\n"
     ]
    }
   ],
   "source": [
    "answer_a = input('Do you like travelling? y/n: ')\n",
    "if answer_a == 'y':\n",
    "    answer_b = input('Do you like Asia? y/n: ')\n",
    "    if answer_b == 'y':\n",
    "        print('Excellent! You win a trip to Thailand!!!')\n",
    "    else:\n",
    "        print('O no')\n",
    "else:\n",
    "    print('Sorry to hear that!')"
   ]
  },
  {
   "cell_type": "code",
   "execution_count": null,
   "id": "9b977373-f64b-48cb-8814-61461c52110b",
   "metadata": {},
   "outputs": [],
   "source": []
  }
 ],
 "metadata": {
  "kernelspec": {
   "display_name": "anaconda-panel-2023.05-py310",
   "language": "python",
   "name": "conda-env-anaconda-panel-2023.05-py310-py"
  },
  "language_info": {
   "codemirror_mode": {
    "name": "ipython",
    "version": 3
   },
   "file_extension": ".py",
   "mimetype": "text/x-python",
   "name": "python",
   "nbconvert_exporter": "python",
   "pygments_lexer": "ipython3",
   "version": "3.11.3"
  }
 },
 "nbformat": 4,
 "nbformat_minor": 5
}
