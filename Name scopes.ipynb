{
 "cells": [
  {
   "cell_type": "code",
   "execution_count": 1,
   "id": "9b6db71e-c618-44cb-9b58-410c9639286d",
   "metadata": {},
   "outputs": [
    {
     "name": "stdout",
     "output_type": "stream",
     "text": [
      "suprise!\n"
     ]
    }
   ],
   "source": [
    "def show_truth():\n",
    "    print(mysterious_var)\n",
    "    \n",
    "mysterious_var= 'suprise!'\n",
    "show_truth()"
   ]
  },
  {
   "cell_type": "code",
   "execution_count": 4,
   "id": "bf38f03d-377b-44e0-9641-078781df69a5",
   "metadata": {},
   "outputs": [
    {
     "name": "stdout",
     "output_type": "stream",
     "text": [
      "suprise!\n",
      "New Surprise!\n",
      "suprise!\n"
     ]
    }
   ],
   "source": [
    "def show_truth():\n",
    "    \n",
    "    mysterious_var = 'New Surprise!'\n",
    "    print(mysterious_var)\n",
    "    \n",
    "mysterious_var= 'suprise!'\n",
    "print(mysterious_var)\n",
    "show_truth()\n",
    "print(mysterious_var)\n",
    "#Shawdowing- This helps with collaborations"
   ]
  },
  {
   "cell_type": "code",
   "execution_count": 5,
   "id": "96b0655d-d39e-442e-8703-5f0042811b77",
   "metadata": {},
   "outputs": [
    {
     "name": "stdout",
     "output_type": "stream",
     "text": [
      "suprise!\n",
      "New Surprise!\n",
      "New Surprise!\n"
     ]
    }
   ],
   "source": [
    "def show_truth():\n",
    "    global mysterious_var\n",
    "    mysterious_var = 'New Surprise!'\n",
    "    print(mysterious_var)\n",
    "    \n",
    "mysterious_var= 'suprise!'\n",
    "print(mysterious_var)\n",
    "show_truth()\n",
    "print(mysterious_var)\n",
    "#=don't use shadowing "
   ]
  },
  {
   "cell_type": "code",
   "execution_count": 9,
   "id": "f22762e8-c0d2-41fe-b352-481dfd098bfd",
   "metadata": {},
   "outputs": [
    {
     "name": "stdout",
     "output_type": "stream",
     "text": [
      "['suprise!']\n",
      "['New Surprise!']\n",
      "['suprise!']\n"
     ]
    }
   ],
   "source": [
    "def show_truth():\n",
    "    mysterious_var = ['New Surprise!']\n",
    "    print(mysterious_var)\n",
    "    \n",
    "mysterious_var= ['suprise!']\n",
    "print(mysterious_var)\n",
    "show_truth()\n",
    "print(mysterious_var)"
   ]
  },
  {
   "cell_type": "code",
   "execution_count": 10,
   "id": "10ea4f8f-c3fe-42ab-85b1-549b5923730f",
   "metadata": {},
   "outputs": [
    {
     "name": "stdout",
     "output_type": "stream",
     "text": [
      "['suprise!']\n",
      "['suprise!', 'New Surprise!']\n",
      "['suprise!', 'New Surprise!']\n"
     ]
    }
   ],
   "source": [
    "def show_truth():\n",
    "    mysterious_var.append('New Surprise!')\n",
    "    print(mysterious_var)\n",
    "    \n",
    "mysterious_var= ['suprise!']\n",
    "print(mysterious_var)\n",
    "show_truth()\n",
    "print(mysterious_var)"
   ]
  },
  {
   "cell_type": "code",
   "execution_count": null,
   "id": "0c03065b-bf3a-4e0a-a496-99b7f8a12e9a",
   "metadata": {},
   "outputs": [],
   "source": []
  }
 ],
 "metadata": {
  "kernelspec": {
   "display_name": "anaconda-panel-2023.05-py310",
   "language": "python",
   "name": "conda-env-anaconda-panel-2023.05-py310-py"
  },
  "language_info": {
   "codemirror_mode": {
    "name": "ipython",
    "version": 3
   },
   "file_extension": ".py",
   "mimetype": "text/x-python",
   "name": "python",
   "nbconvert_exporter": "python",
   "pygments_lexer": "ipython3",
   "version": "3.11.3"
  }
 },
 "nbformat": 4,
 "nbformat_minor": 5
}
