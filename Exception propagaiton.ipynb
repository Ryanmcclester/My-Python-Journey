{
 "cells": [
  {
   "cell_type": "code",
   "execution_count": 8,
   "id": "af7a9752-d3f5-4979-b2b7-f201f0e9bd2e",
   "metadata": {},
   "outputs": [
    {
     "name": "stdout",
     "output_type": "stream",
     "text": [
      "Hi, I will collect some info about you bithday!\n"
     ]
    },
    {
     "name": "stdin",
     "output_type": "stream",
     "text": [
      "What is the day of your bday?  20\n",
      "What is the month (1-12) of yhour bday:  5\n",
      "What is the year of your bday:  1990\n"
     ]
    },
    {
     "name": "stdout",
     "output_type": "stream",
     "text": [
      "so your birthday is [20, 5, 1990]\n"
     ]
    }
   ],
   "source": [
    "def get_day(user_info):\n",
    "    day = int(input('What is the day of your bday? '))\n",
    "    user_info.append(day)\n",
    "    \n",
    "def get_month(user_info):\n",
    "    month = int(input('What is the month (1-12) of yhour bday: '))\n",
    "    user_info.append(month)\n",
    "    \n",
    "def get_year(user_info):\n",
    "    year = int(input('What is the year of your bday: '))\n",
    "    user_info.append(year)\n",
    "    \n",
    "def get_user_bday(user_info):\n",
    "    get_day(user_info)\n",
    "    get_month(user_info)\n",
    "    get_year(user_info)\n",
    "    print('so your birthday is', user_info)\n",
    "    \n",
    "print('Hi, I will collect some info about you bithday!')\n",
    "user_info = []\n",
    "get_user_bday(user_info)"
   ]
  },
  {
   "cell_type": "code",
   "execution_count": 9,
   "id": "f4bb3eb7-43e7-4c46-90a7-212202dc2ace",
   "metadata": {},
   "outputs": [
    {
     "name": "stdout",
     "output_type": "stream",
     "text": [
      "Hi, I will collect some info about you bithday!\n"
     ]
    },
    {
     "name": "stdin",
     "output_type": "stream",
     "text": [
      "What is the day of your bday?  Pizza\n"
     ]
    },
    {
     "ename": "ValueError",
     "evalue": "invalid literal for int() with base 10: 'Pizza'",
     "output_type": "error",
     "traceback": [
      "\u001b[0;31m---------------------------------------------------------------------------\u001b[0m",
      "\u001b[0;31mValueError\u001b[0m                                Traceback (most recent call last)",
      "Cell \u001b[0;32mIn[9], line 21\u001b[0m\n\u001b[1;32m     19\u001b[0m \u001b[38;5;28mprint\u001b[39m(\u001b[38;5;124m'\u001b[39m\u001b[38;5;124mHi, I will collect some info about you bithday!\u001b[39m\u001b[38;5;124m'\u001b[39m)\n\u001b[1;32m     20\u001b[0m user_info \u001b[38;5;241m=\u001b[39m []\n\u001b[0;32m---> 21\u001b[0m get_user_bday(user_info)\n",
      "Cell \u001b[0;32mIn[9], line 14\u001b[0m, in \u001b[0;36mget_user_bday\u001b[0;34m(user_info)\u001b[0m\n\u001b[1;32m     13\u001b[0m \u001b[38;5;28;01mdef\u001b[39;00m \u001b[38;5;21mget_user_bday\u001b[39m(user_info):\n\u001b[0;32m---> 14\u001b[0m     get_day(user_info)\n\u001b[1;32m     15\u001b[0m     get_month(user_info)\n\u001b[1;32m     16\u001b[0m     get_year(user_info)\n",
      "Cell \u001b[0;32mIn[9], line 2\u001b[0m, in \u001b[0;36mget_day\u001b[0;34m(user_info)\u001b[0m\n\u001b[1;32m      1\u001b[0m \u001b[38;5;28;01mdef\u001b[39;00m \u001b[38;5;21mget_day\u001b[39m(user_info):\n\u001b[0;32m----> 2\u001b[0m     day \u001b[38;5;241m=\u001b[39m \u001b[38;5;28mint\u001b[39m(\u001b[38;5;28minput\u001b[39m(\u001b[38;5;124m'\u001b[39m\u001b[38;5;124mWhat is the day of your bday? \u001b[39m\u001b[38;5;124m'\u001b[39m))\n\u001b[1;32m      3\u001b[0m     user_info\u001b[38;5;241m.\u001b[39mappend(day)\n",
      "\u001b[0;31mValueError\u001b[0m: invalid literal for int() with base 10: 'Pizza'"
     ]
    }
   ],
   "source": [
    "def get_day(user_info):\n",
    "    day = int(input('What is the day of your bday? '))\n",
    "    user_info.append(day)\n",
    "    \n",
    "def get_month(user_info):\n",
    "    month = int(input('What is the month (1-12) of yhour bday: '))\n",
    "    user_info.append(month)\n",
    "    \n",
    "def get_year(user_info):\n",
    "    year = int(input('What is the year of your bday: '))\n",
    "    user_info.append(year)\n",
    "    \n",
    "def get_user_bday(user_info):\n",
    "    get_day(user_info)\n",
    "    get_month(user_info)\n",
    "    get_year(user_info)\n",
    "    print('so your birthday is', user_info)\n",
    "    \n",
    "print('Hi, I will collect some info about you bithday!')\n",
    "user_info = []\n",
    "get_user_bday(user_info)"
   ]
  },
  {
   "cell_type": "code",
   "execution_count": 10,
   "id": "3cbb7d73-6057-48da-8c6b-3434a5cf24e6",
   "metadata": {},
   "outputs": [
    {
     "name": "stdout",
     "output_type": "stream",
     "text": [
      "Hi, I will collect some info about you bithday!\n"
     ]
    },
    {
     "name": "stdin",
     "output_type": "stream",
     "text": [
      "What is the day of your bday?  pizza\n"
     ]
    },
    {
     "name": "stdout",
     "output_type": "stream",
     "text": [
      "You enterd incorrect data. Do not do that.\n"
     ]
    }
   ],
   "source": [
    "def get_day(user_info):\n",
    "    day = int(input('What is the day of your bday? '))\n",
    "    user_info.append(day)\n",
    "    \n",
    "def get_month(user_info):\n",
    "    month = int(input('What is the month (1-12) of yhour bday: '))\n",
    "    user_info.append(month)\n",
    "    \n",
    "def get_year(user_info):\n",
    "    year = int(input('What is the year of your bday: '))\n",
    "    user_info.append(year)\n",
    "    \n",
    "def get_user_bday(user_info):\n",
    "    try:\n",
    "        get_day(user_info)\n",
    "        get_month(user_info)\n",
    "        get_year(user_info)\n",
    "        print('so your birthday is', user_info)\n",
    "    except ValueError:\n",
    "        print('You enterd incorrect data. Do not do that.')\n",
    "\n",
    "print('Hi, I will collect some info about you bithday!')\n",
    "user_info = []\n",
    "get_user_bday(user_info)"
   ]
  },
  {
   "cell_type": "code",
   "execution_count": null,
   "id": "1d810db5-23bf-48a5-9345-6666bf53a877",
   "metadata": {},
   "outputs": [],
   "source": []
  }
 ],
 "metadata": {
  "kernelspec": {
   "display_name": "anaconda-panel-2023.05-py310",
   "language": "python",
   "name": "conda-env-anaconda-panel-2023.05-py310-py"
  },
  "language_info": {
   "codemirror_mode": {
    "name": "ipython",
    "version": 3
   },
   "file_extension": ".py",
   "mimetype": "text/x-python",
   "name": "python",
   "nbconvert_exporter": "python",
   "pygments_lexer": "ipython3",
   "version": "3.11.3"
  }
 },
 "nbformat": 4,
 "nbformat_minor": 5
}
