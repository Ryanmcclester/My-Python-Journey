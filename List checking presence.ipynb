{
 "cells": [
  {
   "cell_type": "code",
   "execution_count": 4,
   "id": "d70983b8-441a-47de-be50-8253cfa0b9b2",
   "metadata": {},
   "outputs": [
    {
     "name": "stdin",
     "output_type": "stream",
     "text": [
      "What is your name? Mike\n"
     ]
    },
    {
     "name": "stdout",
     "output_type": "stream",
     "text": [
      "You are not welcome\n"
     ]
    }
   ],
   "source": [
    "invited_guests = ['Kate', 'Adam', 'Kerry', 'Joe', 'Anne', 'Marie']\n",
    "name = input('What is your name?')\n",
    "if name in invited_guests:\n",
    "    print('Welcome')\n",
    "else:\n",
    "    print('You are not welcome')"
   ]
  },
  {
   "cell_type": "code",
   "execution_count": 6,
   "id": "002b0ffd-cf6a-477f-9460-294a0a9c8605",
   "metadata": {},
   "outputs": [
    {
     "name": "stdin",
     "output_type": "stream",
     "text": [
      "What is your name? Marie\n"
     ]
    },
    {
     "name": "stdout",
     "output_type": "stream",
     "text": [
      "Welcome\n"
     ]
    }
   ],
   "source": [
    "invited_guests = ['Kate', 'Adam', 'Kerry', 'Joe', 'Anne', 'Marie']\n",
    "name = input('What is your name?')\n",
    "if name in invited_guests:\n",
    "    print('Welcome')\n",
    "else:\n",
    "    print('You are not welcome')"
   ]
  },
  {
   "cell_type": "code",
   "execution_count": 8,
   "id": "bfab68f8-fe68-443e-80f5-48081259b6ca",
   "metadata": {},
   "outputs": [
    {
     "name": "stdin",
     "output_type": "stream",
     "text": [
      "What is your name? Boggy Man\n"
     ]
    },
    {
     "name": "stdout",
     "output_type": "stream",
     "text": [
      "Go away\n"
     ]
    }
   ],
   "source": [
    "invited_guests = ['Kate', 'Adam', 'Kerry', 'Joe', 'Anne', 'Marie']\n",
    "name = input('What is your name?')\n",
    "if name not in invited_guests:\n",
    "    print('Go away')\n",
    "else:\n",
    "    print('Please kick up your feet')"
   ]
  },
  {
   "cell_type": "code",
   "execution_count": null,
   "id": "7385ce67-7865-45b4-942d-a730d84a0148",
   "metadata": {},
   "outputs": [],
   "source": []
  }
 ],
 "metadata": {
  "kernelspec": {
   "display_name": "anaconda-panel-2023.05-py310",
   "language": "python",
   "name": "conda-env-anaconda-panel-2023.05-py310-py"
  },
  "language_info": {
   "codemirror_mode": {
    "name": "ipython",
    "version": 3
   },
   "file_extension": ".py",
   "mimetype": "text/x-python",
   "name": "python",
   "nbconvert_exporter": "python",
   "pygments_lexer": "ipython3",
   "version": "3.11.3"
  }
 },
 "nbformat": 4,
 "nbformat_minor": 5
}
