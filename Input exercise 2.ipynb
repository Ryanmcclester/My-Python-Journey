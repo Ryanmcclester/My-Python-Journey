{
 "cells": [
  {
   "cell_type": "code",
   "execution_count": 12,
   "id": "d3b05bf5-f199-48bf-915b-ce0c86fa5671",
   "metadata": {},
   "outputs": [
    {
     "name": "stdout",
     "output_type": "stream",
     "text": [
      "Enter your login\n"
     ]
    },
    {
     "name": "stdin",
     "output_type": "stream",
     "text": [
      " Ryan\n"
     ]
    },
    {
     "name": "stdout",
     "output_type": "stream",
     "text": [
      "Enter you native language\n"
     ]
    },
    {
     "name": "stdin",
     "output_type": "stream",
     "text": [
      " English\n"
     ]
    },
    {
     "name": "stdout",
     "output_type": "stream",
     "text": [
      "Your login is Ryan and you speak English\n"
     ]
    }
   ],
   "source": [
    "print('Enter your login')\n",
    "login = input()\n",
    "print('Enter you native language')\n",
    "native_language = input()\n",
    "print('Your login is',login,'and you speak',native_language)"
   ]
  }
 ],
 "metadata": {
  "kernelspec": {
   "display_name": "anaconda-panel-2023.05-py310",
   "language": "python",
   "name": "conda-env-anaconda-panel-2023.05-py310-py"
  },
  "language_info": {
   "codemirror_mode": {
    "name": "ipython",
    "version": 3
   },
   "file_extension": ".py",
   "mimetype": "text/x-python",
   "name": "python",
   "nbconvert_exporter": "python",
   "pygments_lexer": "ipython3",
   "version": "3.11.3"
  }
 },
 "nbformat": 4,
 "nbformat_minor": 5
}
