{
 "cells": [
  {
   "cell_type": "code",
   "execution_count": 1,
   "id": "2b23cb88-21a8-4ba7-a5a0-1455311c275c",
   "metadata": {},
   "outputs": [
    {
     "name": "stdout",
     "output_type": "stream",
     "text": [
      "element: ['a1', 'a2', 'a3']\n",
      "element: ['b1', 'b2', 'b3']\n"
     ]
    }
   ],
   "source": [
    "cells = [['a1', 'a2', 'a3'], ['b1', 'b2', 'b3']]\n",
    "for x in cells:\n",
    "    print('element:', x)"
   ]
  },
  {
   "cell_type": "code",
   "execution_count": 2,
   "id": "4c86a1df-b80c-474c-aae5-5293b77a9de1",
   "metadata": {},
   "outputs": [
    {
     "name": "stdout",
     "output_type": "stream",
     "text": [
      "Element: a1\n",
      "Element: a2\n",
      "Element: a3\n",
      "Element: b1\n",
      "Element: b2\n",
      "Element: b3\n"
     ]
    }
   ],
   "source": [
    "cells = [['a1', 'a2', 'a3'], ['b1', 'b2', 'b3']]\n",
    "for x in cells:\n",
    "    for y in x:\n",
    "        print('Element:', y)"
   ]
  },
  {
   "cell_type": "code",
   "execution_count": null,
   "id": "e2c407b2-e95f-42e2-a4a7-177f90e94028",
   "metadata": {},
   "outputs": [],
   "source": []
  }
 ],
 "metadata": {
  "kernelspec": {
   "display_name": "anaconda-panel-2023.05-py310",
   "language": "python",
   "name": "conda-env-anaconda-panel-2023.05-py310-py"
  },
  "language_info": {
   "codemirror_mode": {
    "name": "ipython",
    "version": 3
   },
   "file_extension": ".py",
   "mimetype": "text/x-python",
   "name": "python",
   "nbconvert_exporter": "python",
   "pygments_lexer": "ipython3",
   "version": "3.11.3"
  }
 },
 "nbformat": 4,
 "nbformat_minor": 5
}
