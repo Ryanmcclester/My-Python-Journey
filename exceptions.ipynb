{
 "cells": [
  {
   "cell_type": "code",
   "execution_count": 1,
   "id": "523bc864-3135-426c-9911-84d2011d7a8c",
   "metadata": {},
   "outputs": [
    {
     "name": "stdin",
     "output_type": "stream",
     "text": [
      "enter an integer:  a\n"
     ]
    },
    {
     "ename": "ValueError",
     "evalue": "invalid literal for int() with base 10: 'a'",
     "output_type": "error",
     "traceback": [
      "\u001b[0;31m---------------------------------------------------------------------------\u001b[0m",
      "\u001b[0;31mValueError\u001b[0m                                Traceback (most recent call last)",
      "Cell \u001b[0;32mIn[1], line 1\u001b[0m\n\u001b[0;32m----> 1\u001b[0m value \u001b[38;5;241m=\u001b[39m \u001b[38;5;28mint\u001b[39m(\u001b[38;5;28minput\u001b[39m(\u001b[38;5;124m'\u001b[39m\u001b[38;5;124menter an integer: \u001b[39m\u001b[38;5;124m'\u001b[39m))\n\u001b[1;32m      2\u001b[0m \u001b[38;5;28mprint\u001b[39m(\u001b[38;5;124m'\u001b[39m\u001b[38;5;124mthe inverse of \u001b[39m\u001b[38;5;124m'\u001b[39m , value, \u001b[38;5;124m'\u001b[39m\u001b[38;5;124mis\u001b[39m\u001b[38;5;124m'\u001b[39m, \u001b[38;5;241m1\u001b[39m\u001b[38;5;241m/\u001b[39mvalue)\n",
      "\u001b[0;31mValueError\u001b[0m: invalid literal for int() with base 10: 'a'"
     ]
    }
   ],
   "source": [
    "value = int(input('enter an integer: '))\n",
    "print('the inverse of ' , value, 'is', 1/value)"
   ]
  },
  {
   "cell_type": "code",
   "execution_count": 2,
   "id": "cb661cae-654b-4754-ac0a-32e24292f916",
   "metadata": {},
   "outputs": [
    {
     "name": "stdin",
     "output_type": "stream",
     "text": [
      "enter an integer:  a\n"
     ]
    },
    {
     "name": "stdout",
     "output_type": "stream",
     "text": [
      "you did not provide a number. I will not calculate the inverse.\n"
     ]
    }
   ],
   "source": [
    "try: \n",
    "    value = int(input('enter an integer: '))\n",
    "    print('the inverse of ' , value, 'is', 1/value)\n",
    "except:\n",
    "    print('you did not provide a number. I will not calculate the inverse.')"
   ]
  },
  {
   "cell_type": "code",
   "execution_count": 3,
   "id": "eee0595f-9899-49b5-a55a-9ae3b07f82c3",
   "metadata": {},
   "outputs": [
    {
     "name": "stdin",
     "output_type": "stream",
     "text": [
      "enter an integer:  0\n"
     ]
    },
    {
     "name": "stdout",
     "output_type": "stream",
     "text": [
      "you did not provide a number. I will not calculate the inverse.\n"
     ]
    }
   ],
   "source": [
    "try: \n",
    "    value = int(input('enter an integer: '))\n",
    "    print('the inverse of ' , value, 'is', 1/value)\n",
    "except:\n",
    "    print('you did not provide a number. I will not calculate the inverse.')\n"
   ]
  },
  {
   "cell_type": "code",
   "execution_count": 4,
   "id": "969668b5-62d0-40d1-9347-d1251ce5d19f",
   "metadata": {},
   "outputs": [],
   "source": [
    "#???? That is a number.  \n",
    "#Python cannont divide by 0 and this is a different exception"
   ]
  },
  {
   "cell_type": "code",
   "execution_count": 5,
   "id": "a14b72b9-1deb-4100-abd1-1dcf2ae84f28",
   "metadata": {},
   "outputs": [
    {
     "name": "stdin",
     "output_type": "stream",
     "text": [
      "enter an integer:  0\n"
     ]
    },
    {
     "name": "stdout",
     "output_type": "stream",
     "text": [
      "You provided 0 and division by 0 is not possible, sorry\n"
     ]
    }
   ],
   "source": [
    "try: \n",
    "    value = int(input('enter an integer: '))\n",
    "    print('the inverse of ' , value, 'is', 1/value)\n",
    "except ValueError:\n",
    "    print('you did not provide a number. I will not calculate the inverse.')\n",
    "except ZeroDivisionError:\n",
    "    print('You provided 0 and division by 0 is not possible, sorry')"
   ]
  },
  {
   "cell_type": "code",
   "execution_count": null,
   "id": "862bd70b-76a8-41fe-9de2-f9db0232f947",
   "metadata": {},
   "outputs": [],
   "source": []
  }
 ],
 "metadata": {
  "kernelspec": {
   "display_name": "anaconda-panel-2023.05-py310",
   "language": "python",
   "name": "conda-env-anaconda-panel-2023.05-py310-py"
  },
  "language_info": {
   "codemirror_mode": {
    "name": "ipython",
    "version": 3
   },
   "file_extension": ".py",
   "mimetype": "text/x-python",
   "name": "python",
   "nbconvert_exporter": "python",
   "pygments_lexer": "ipython3",
   "version": "3.11.3"
  }
 },
 "nbformat": 4,
 "nbformat_minor": 5
}
